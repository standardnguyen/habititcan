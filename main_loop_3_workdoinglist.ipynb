{
 "cells": [
  {
   "cell_type": "code",
   "execution_count": null,
   "id": "0",
   "metadata": {},
   "outputs": [],
   "source": [
    "# Monitors the \"Doing\" list"
   ]
  },
  {
   "cell_type": "code",
   "execution_count": null,
   "id": "1",
   "metadata": {},
   "outputs": [],
   "source": [
    "from trello import TrelloListMonitor\n",
    "from IFTTT import IFTTTNotifier\n",
    "from habitica import HabiticaAPI\n",
    "from stack_client import StackClient"
   ]
  },
  {
   "cell_type": "code",
   "execution_count": null,
   "id": "2",
   "metadata": {},
   "outputs": [],
   "source": [
    "stack_client = StackClient()\n"
   ]
  },
  {
   "cell_type": "code",
   "execution_count": null,
   "id": "3",
   "metadata": {},
   "outputs": [],
   "source": [
    "def desktop_notifier_callback(final_result, task_id, direction):\n",
    "    # switch case where if task_id is trivial-doot, then stack_client.add_trivial()\n",
    "    # and so on for easy, medium, hard\n",
    "    if task_id == \"trivial-doot\":\n",
    "        stack_client.add_trivial()\n",
    "    elif task_id == \"easy-doot\":\n",
    "        stack_client.add_easy()\n",
    "    elif task_id == \"medium-doot\":\n",
    "        stack_client.add_medium()\n",
    "    elif task_id == \"hard-doot\":\n",
    "        stack_client.add_hard()\n",
    "    else:\n",
    "        print(f\"Unknown task_id: {task_id}\")  # Handle unknown task_id gracefully"
   ]
  },
  {
   "cell_type": "code",
   "execution_count": null,
   "id": "4",
   "metadata": {},
   "outputs": [],
   "source": [
    "monitor = TrelloListMonitor(\"648a3625f64d43ee787f560f\")\n",
    "notifier = IFTTTNotifier()\n",
    "habitica = HabiticaAPI(callback=desktop_notifier_callback)"
   ]
  },
  {
   "cell_type": "code",
   "execution_count": null,
   "id": "5",
   "metadata": {},
   "outputs": [],
   "source": [
    "def handle_trello_changes(diff):\n",
    "    \"\"\"Handle all the business logic when Trello changes\"\"\"\n",
    "    if diff['added']:\n",
    "        for card in diff['added']:\n",
    "            card_id = card['id']\n",
    "\n",
    "            card_details = monitor.get_custom_field_items_for_card(card_id)\n",
    "            print(card)\n",
    "            card_title = card['name']\n",
    "            \n",
    "            if monitor.alter_custom_field_id not in card_details:\n",
    "                print(card_details)\n",
    "                print(f\"Card '{card_title}' does not have an alter identity set.\")\n",
    "                # we want to set it to a random alter identity of 19, \n",
    "                # we can use the alters dictionary we created earlier\n",
    "                alter_name = monitor.get_random_alter()\n",
    "                print(f\"Setting alter identity to '{alter_name}' for card '{card_title}'\")\n",
    "                monitor.set_custom_field(card_id, monitor.alter_custom_field_id, monitor.alters[alter_name], 'list')\n",
    "                print(f\"Card '{card_title}' has been updated with alter identity '{alter_name}'.\")                           \n",
    "\n",
    "\n",
    "            card_details = monitor.get_card_details(card_id)\n",
    "            card_title = card_details['title']\n",
    "            card_story_points = 0.1\n",
    "            card_frontend_url = card_details.get('frontend_url')\n",
    "\n",
    "            notifier.send_notification(title=f'Logging Trello Card #{card_title}#...',\n",
    "                                        message=f'',\n",
    "                                        url=\"\", image_url=\"\")\n",
    "\n",
    "\n",
    "            # print(card_title, card_story_points, card_frontend_url)    \n",
    "\n",
    "            habitica_info = habitica.log_story_points(0.1)\n",
    "            exp, gp, level = habitica_info['stat_deltas']['exp'], \\\n",
    "                                habitica_info['stat_deltas']['gp'], \\\n",
    "                                habitica_info['stat_deltas']['level']\n",
    "            \n",
    "            # we want the title to be dynamic based on exp gp and level, although level might not change\n",
    "            # emojis used for compression and concision\n",
    "            # the emoji for exp is the star ⭐\n",
    "            # the emoji for gold is the coin 🪙\n",
    "            # the emoji for level is the up arrow ⬆️\n",
    "            # and we only include the level, gp and exp if they have changed\n",
    "            title_parts = []\n",
    "            if exp:\n",
    "                title_parts.append(f'⭐{round(exp, 2) if isinstance(exp, float) else exp}')\n",
    "            if gp:\n",
    "                title_parts.append(f'🪙{round(gp, 2) if isinstance(gp, float) else gp}')\n",
    "            if level:\n",
    "                title_parts.append(f'⬆️{level}')\n",
    "\n",
    "            title = \" | \".join(title_parts)\n",
    "\n",
    "            notifier.send_notification(title='Trello Card In Action! - ' + title,\n",
    "                                        message=f'specifically this card: ##{card_title}## with story points: {card_story_points}',\n",
    "                                        url=card_frontend_url)\n",
    "    if diff['modified']:\n",
    "        for card in diff['modified']:\n",
    "            habitica_info = habitica.log_story_points(0.1)\n",
    "\n"
   ]
  },
  {
   "cell_type": "code",
   "execution_count": null,
   "id": "6",
   "metadata": {},
   "outputs": [],
   "source": [
    "monitor.monitor(interval=1,callback=handle_trello_changes)"
   ]
  }
 ],
 "metadata": {
  "kernelspec": {
   "display_name": ".venv",
   "language": "python",
   "name": "python3"
  },
  "language_info": {
   "codemirror_mode": {
    "name": "ipython",
    "version": 3
   },
   "file_extension": ".py",
   "mimetype": "text/x-python",
   "name": "python",
   "nbconvert_exporter": "python",
   "pygments_lexer": "ipython3",
   "version": "3.12.3"
  }
 },
 "nbformat": 4,
 "nbformat_minor": 5
}
