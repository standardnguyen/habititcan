{
 "cells": [
  {
   "cell_type": "code",
   "execution_count": null,
   "id": "0",
   "metadata": {},
   "outputs": [],
   "source": [
    "from trello import TrelloListMonitor\n",
    "import os\n",
    "from dotenv import load_dotenv"
   ]
  },
  {
   "cell_type": "code",
   "execution_count": null,
   "id": "1",
   "metadata": {},
   "outputs": [],
   "source": [
    "load_dotenv()\n",
    "\n",
    "TRELLO_QUEUE_LIST_ID = os.getenv(\"TRELLO_QUEUE_LIST_ID\")"
   ]
  },
  {
   "cell_type": "code",
   "execution_count": null,
   "id": "2",
   "metadata": {},
   "outputs": [],
   "source": [
    "monitor = TrelloListMonitor(TRELLO_QUEUE_LIST_ID)"
   ]
  },
  {
   "cell_type": "code",
   "execution_count": null,
   "id": "3",
   "metadata": {},
   "outputs": [],
   "source": [
    "\n",
    "def handle_trello_changes(diff):\n",
    "    \"\"\"Handle all the business logic when Trello changes\"\"\"\n",
    "    if diff['added']:\n",
    "        for card in diff['added']:            \n",
    "            card_id = card['id']\n",
    "\n",
    "            card_details = monitor.get_custom_field_items_for_card(card_id)\n",
    "            card_title = card['name']\n",
    "            if monitor.alter_custom_field_id in card_details:\n",
    "                continue\n",
    "\n",
    "            \n",
    "\n",
    "            print(card_details)\n",
    "            print(f\"Card '{card_title}' does not have an alter identity set.\")\n",
    "            # we want to set it to a random alter identity of 19, \n",
    "            # we can use the alters dictionary we created earlier\n",
    "            alter_name = monitor.get_random_alter()\n",
    "            print(f\"Setting alter identity to '{alter_name}' for card '{card_title}'\")\n",
    "            monitor.set_custom_field(card_id, monitor.alter_custom_field_id, monitor.alters[alter_name], 'list')\n",
    "            print(f\"Card '{card_title}' has been updated with alter identity '{alter_name}'.\")\n",
    "\n"
   ]
  },
  {
   "cell_type": "code",
   "execution_count": null,
   "id": "4",
   "metadata": {},
   "outputs": [],
   "source": [
    "monitor.monitor(interval=1,callback=handle_trello_changes)"
   ]
  }
 ],
 "metadata": {
  "kernelspec": {
   "display_name": ".venv",
   "language": "python",
   "name": "python3"
  },
  "language_info": {
   "codemirror_mode": {
    "name": "ipython",
    "version": 3
   },
   "file_extension": ".py",
   "mimetype": "text/x-python",
   "name": "python",
   "nbconvert_exporter": "python",
   "pygments_lexer": "ipython3",
   "version": "3.12.0"
  }
 },
 "nbformat": 4,
 "nbformat_minor": 5
}
