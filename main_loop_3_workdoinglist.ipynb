{
 "cells": [
  {
   "cell_type": "code",
   "execution_count": 1,
   "id": "0",
   "metadata": {},
   "outputs": [],
   "source": [
    "# Monitors the \"Doing\" list"
   ]
  },
  {
   "cell_type": "code",
   "execution_count": 2,
   "id": "1",
   "metadata": {},
   "outputs": [],
   "source": [
    "from trello import TrelloListMonitor\n",
    "from IFTTT import IFTTTNotifier\n",
    "from habitica import HabiticaAPI\n",
    "from stack_client import StackClient"
   ]
  },
  {
   "cell_type": "code",
   "execution_count": 3,
   "id": "2",
   "metadata": {},
   "outputs": [],
   "source": [
    "stack_client = StackClient()\n"
   ]
  },
  {
   "cell_type": "code",
   "execution_count": 4,
   "id": "3",
   "metadata": {},
   "outputs": [],
   "source": [
    "def desktop_notifier_callback(final_result, task_id, direction):\n",
    "    # switch case where if task_id is trivial-doot, then stack_client.add_trivial()\n",
    "    # and so on for easy, medium, hard\n",
    "    if task_id == \"trivial-doot\":\n",
    "        stack_client.add_trivial()\n",
    "    elif task_id == \"easy-doot\":\n",
    "        stack_client.add_easy()\n",
    "    elif task_id == \"medium-doot\":\n",
    "        stack_client.add_medium()\n",
    "    elif task_id == \"hard-doot\":\n",
    "        stack_client.add_hard()\n",
    "    else:\n",
    "        print(f\"Unknown task_id: {task_id}\")  # Handle unknown task_id gracefully"
   ]
  },
  {
   "cell_type": "code",
   "execution_count": 5,
   "id": "4",
   "metadata": {},
   "outputs": [
    {
     "name": "stdout",
     "output_type": "stream",
     "text": [
      "fetching alter information...\n"
     ]
    },
    {
     "name": "stdout",
     "output_type": "stream",
     "text": [
      "Custom Field: Alter (ID: 6849c092c33394857a6bf4a4)\n",
      "6849c092c33394857a6bf4a5 Lara\n",
      "6849c092c33394857a6bf4a6 Sam\n",
      "6849c092c33394857a6bf4a7 Xuan\n",
      "6849c092c33394857a6bf4a8 Lin Hao\n",
      "6849c092c33394857a6bf4a9 Sue\n",
      "6849c092c33394857a6bf4aa Terry\n",
      "6849c092c33394857a6bf4ab Cindy\n",
      "6849c092c33394857a6bf4ac Sally\n",
      "6849c092c33394857a6bf4ad Susie\n",
      "6849c092c33394857a6bf4ae Sara\n",
      "6849c092c33394857a6bf4af Karen\n",
      "6849c092c33394857a6bf4b0 Ghost\n",
      "6849c092c33394857a6bf4b1 Clementine\n",
      "6849c092c33394857a6bf4b2 Vanessa\n",
      "6849c092c33394857a6bf4b3 Van\n",
      "6849c092c33394857a6bf4b4 Claire\n",
      "6849c092c33394857a6bf4b5 Rally\n",
      "6849c092c33394857a6bf4b6 Lana \n",
      "6849c092c33394857a6bf4b7 Kasey\n"
     ]
    }
   ],
   "source": [
    "monitor = TrelloListMonitor(\"648a3625f64d43ee787f560f\")\n",
    "notifier = IFTTTNotifier()\n",
    "habitica = HabiticaAPI(callback=desktop_notifier_callback)"
   ]
  },
  {
   "cell_type": "code",
   "execution_count": null,
   "id": "5",
   "metadata": {},
   "outputs": [],
   "source": [
    "def handle_trello_changes(diff):\n",
    "    \"\"\"Handle all the business logic when Trello changes\"\"\"\n",
    "    for category in diff:\n",
    "        for card in diff[category]:\n",
    "            card_id = card['id']\n",
    "\n",
    "            card_details = monitor.get_custom_field_items_for_card(card_id)\n",
    "            card_title = card['name']\n",
    "            if monitor.alter_custom_field_id not in card_details:\n",
    "                print(card_details)\n",
    "                print(f\"Card '{card_title}' does not have an alter identity set.\")\n",
    "                # we want to set it to a random alter identity of 19, \n",
    "                # we can use the alters dictionary we created earlier\n",
    "                alter_name = monitor.get_random_alter()\n",
    "                print(f\"Setting alter identity to '{alter_name}' for card '{card_title}'\")\n",
    "                monitor.set_custom_field(card_id, monitor.alter_custom_field_id, monitor.alters[alter_name], 'list')\n",
    "                print(f\"Card '{card_title}' has been updated with alter identity '{alter_name}'.\")                           \n",
    "\n",
    "\n",
    "            card_details = monitor.get_card_details(card_id)\n",
    "            card_title = card_details['title']\n",
    "            card_story_points = 0.1\n",
    "            card_frontend_url = card_details.get('frontend_url')\n",
    "\n",
    "            notifier.send_notification(title=f'Logging Trello Card #{card_title}#...',\n",
    "                                       message=f'',\n",
    "                                       url=\"\", image_url=\"\")\n",
    "\n",
    "\n",
    "            # print(card_title, card_story_points, card_frontend_url)    \n",
    "\n",
    "            habitica_info = habitica.log_story_points(0.1)\n",
    "            exp, gp, level = habitica_info['stat_deltas']['exp'], \\\n",
    "                             habitica_info['stat_deltas']['gp'], \\\n",
    "                             habitica_info['stat_deltas']['level']\n",
    "            \n",
    "            # we want the title to be dynamic based on exp gp and level, although level might not change\n",
    "            # emojis used for compression and concision\n",
    "            # the emoji for exp is the star ⭐\n",
    "            # the emoji for gold is the coin 🪙\n",
    "            # the emoji for level is the up arrow ⬆️\n",
    "            # and we only include the level, gp and exp if they have changed\n",
    "            title_parts = []\n",
    "            if exp:\n",
    "                title_parts.append(f'⭐{round(exp, 2) if isinstance(exp, float) else exp}')\n",
    "            if gp:\n",
    "                title_parts.append(f'🪙{round(gp, 2) if isinstance(gp, float) else gp}')\n",
    "            if level:\n",
    "                title_parts.append(f'⬆️{level}')\n",
    "\n",
    "            title = \" | \".join(title_parts)\n",
    "\n",
    "            notifier.send_notification(title='Trello Card In Action! - ' + title,\n",
    "                                       message=f'specifically this card: ##{card_title}## with story points: {card_story_points}',\n",
    "                                       url=card_frontend_url)\n",
    "\n"
   ]
  },
  {
   "cell_type": "code",
   "execution_count": 7,
   "id": "6",
   "metadata": {},
   "outputs": [
    {
     "name": "stdout",
     "output_type": "stream",
     "text": [
      "Starting monitor for list 648a3625f64d43ee787f560f\n",
      "Checking every 1 seconds...\n",
      "Press Ctrl+C to stop\n",
      "\n",
      "Initial state: 1 cards\n",
      "......\n",
      "📝 ADDED (1 cards):\n",
      "  + test (ID: 686b21a9c4a22e6dfb9bea3d)\n"
     ]
    },
    {
     "ename": "UnboundLocalError",
     "evalue": "cannot access local variable 'card_id' where it is not associated with a value",
     "output_type": "error",
     "traceback": [
      "\u001b[31m---------------------------------------------------------------------------\u001b[39m",
      "\u001b[31mUnboundLocalError\u001b[39m                         Traceback (most recent call last)",
      "\u001b[36mCell\u001b[39m\u001b[36m \u001b[39m\u001b[32mIn[7]\u001b[39m\u001b[32m, line 1\u001b[39m\n\u001b[32m----> \u001b[39m\u001b[32m1\u001b[39m \u001b[43mmonitor\u001b[49m\u001b[43m.\u001b[49m\u001b[43mmonitor\u001b[49m\u001b[43m(\u001b[49m\u001b[43minterval\u001b[49m\u001b[43m=\u001b[49m\u001b[32;43m1\u001b[39;49m\u001b[43m,\u001b[49m\u001b[43mcallback\u001b[49m\u001b[43m=\u001b[49m\u001b[43mhandle_trello_changes\u001b[49m\u001b[43m)\u001b[49m\n",
      "\u001b[36mFile \u001b[39m\u001b[32m~/Projects/habititcan/trello.py:319\u001b[39m, in \u001b[36mTrelloListMonitor.monitor\u001b[39m\u001b[34m(self, interval, max_iterations, callback, verbose)\u001b[39m\n\u001b[32m    317\u001b[39m         \u001b[38;5;66;03m# Call callback if provided\u001b[39;00m\n\u001b[32m    318\u001b[39m         \u001b[38;5;28;01mif\u001b[39;00m callback:\n\u001b[32m--> \u001b[39m\u001b[32m319\u001b[39m             \u001b[43mcallback\u001b[49m\u001b[43m(\u001b[49m\u001b[43mdiff\u001b[49m\u001b[43m)\u001b[49m\n\u001b[32m    321\u001b[39m     previous_cards = current_cards\n\u001b[32m    323\u001b[39m \u001b[38;5;28;01mexcept\u001b[39;00m requests.RequestException \u001b[38;5;28;01mas\u001b[39;00m e:\n",
      "\u001b[36mCell\u001b[39m\u001b[36m \u001b[39m\u001b[32mIn[6]\u001b[39m\u001b[32m, line 5\u001b[39m, in \u001b[36mhandle_trello_changes\u001b[39m\u001b[34m(diff)\u001b[39m\n\u001b[32m      3\u001b[39m \u001b[38;5;28;01mfor\u001b[39;00m category \u001b[38;5;129;01min\u001b[39;00m diff:\n\u001b[32m      4\u001b[39m     \u001b[38;5;28;01mfor\u001b[39;00m card \u001b[38;5;129;01min\u001b[39;00m diff[category]:\n\u001b[32m----> \u001b[39m\u001b[32m5\u001b[39m         card_details = monitor.get_custom_field_items_for_card(\u001b[43mcard_id\u001b[49m)\n\u001b[32m      6\u001b[39m         card_title = card[\u001b[33m'\u001b[39m\u001b[33mname\u001b[39m\u001b[33m'\u001b[39m]\n\u001b[32m      7\u001b[39m         \u001b[38;5;28;01mif\u001b[39;00m monitor.alter_custom_field_id \u001b[38;5;129;01mnot\u001b[39;00m \u001b[38;5;129;01min\u001b[39;00m card_details:\n",
      "\u001b[31mUnboundLocalError\u001b[39m: cannot access local variable 'card_id' where it is not associated with a value"
     ]
    }
   ],
   "source": [
    "monitor.monitor(interval=1,callback=handle_trello_changes)"
   ]
  }
 ],
 "metadata": {
  "kernelspec": {
   "display_name": ".venv",
   "language": "python",
   "name": "python3"
  },
  "language_info": {
   "codemirror_mode": {
    "name": "ipython",
    "version": 3
   },
   "file_extension": ".py",
   "mimetype": "text/x-python",
   "name": "python",
   "nbconvert_exporter": "python",
   "pygments_lexer": "ipython3",
   "version": "3.12.3"
  }
 },
 "nbformat": 4,
 "nbformat_minor": 5
}
