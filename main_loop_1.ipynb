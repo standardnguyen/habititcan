{
 "cells": [
  {
   "cell_type": "code",
   "execution_count": null,
   "id": "0",
   "metadata": {},
   "outputs": [],
   "source": [
    "from trello import TrelloListMonitor\n",
    "from IFTTT import IFTTTNotifier\n",
    "from habitica import HabiticaAPI"
   ]
  },
  {
   "cell_type": "code",
   "execution_count": null,
   "id": "1",
   "metadata": {},
   "outputs": [],
   "source": [
    "monitor = TrelloListMonitor()\n",
    "notifier = IFTTTNotifier()\n",
    "habitica = HabiticaAPI()"
   ]
  },
  {
   "cell_type": "code",
   "execution_count": null,
   "id": "2",
   "metadata": {},
   "outputs": [],
   "source": [
    "response = habitica.get_profile()\n",
    "data = response['data']\n",
    "\n",
    "data['stats']\n",
    "\n",
    "exp = data['stats']['exp']\n",
    "gp = data['stats']['gp']\n",
    "level = data['stats']['lvl']\n",
    "\n",
    "print(f\"Level: {level}, Experience: {exp}, Gold: {gp}\")"
   ]
  },
  {
   "cell_type": "code",
   "execution_count": null,
   "id": "3",
   "metadata": {},
   "outputs": [],
   "source": [
    "def handle_trello_changes(diff):\n",
    "    \"\"\"Handle all the business logic when Trello changes\"\"\"\n",
    "    if diff['added']:\n",
    "        for card in diff['added']:            \n",
    "            card_id = card['id']\n",
    "\n",
    "            card_details = monitor.get_card_details(card_id)\n",
    "            card_title = card_details['title']\n",
    "            card_story_points = card_details.get('story_points')\n",
    "            card_frontend_url = card_details.get('frontend_url')\n",
    "\n",
    "            notifier.send_notification(title=f'Logging Trello Card #{card_title}#...',\n",
    "                                       message=f'',\n",
    "                                       url=\"\", image_url=\"\")\n",
    "\n",
    "\n",
    "            # print(card_title, card_story_points, card_frontend_url)    \n",
    "\n",
    "            habitica_info = habitica.log_story_points(card_story_points)\n",
    "            exp, gp, level = habitica_info['stat_deltas']['exp'], \\\n",
    "                             habitica_info['stat_deltas']['gp'], \\\n",
    "                             habitica_info['stat_deltas']['level']\n",
    "            \n",
    "            # we want the title to be dynamic based on exp gp and level, although level might not change\n",
    "            # emojis used for compression and concision\n",
    "            # the emoji for exp is the star ⭐\n",
    "            # the emoji for gold is the coin 🪙\n",
    "            # the emoji for level is the up arrow ⬆️\n",
    "            # and we only include the level, gp and exp if they have changed\n",
    "            title_parts = []\n",
    "            if exp:\n",
    "                title_parts.append(f'⭐{round(exp, 2) if isinstance(exp, float) else exp}')\n",
    "            if gp:\n",
    "                title_parts.append(f'🪙{round(gp, 2) if isinstance(gp, float) else gp}')\n",
    "            if level:\n",
    "                title_parts.append(f'⬆️{level}')\n",
    "\n",
    "            title = \" | \".join(title_parts)\n",
    "\n",
    "            notifier.send_notification(title='Trello Card Logged! - ' + title,\n",
    "                                       message=f'specifically this card: ##{card_title}## with story points: {card_story_points}',\n",
    "                                       url=card_frontend_url)\n",
    "\n"
   ]
  },
  {
   "cell_type": "code",
   "execution_count": null,
   "id": "4",
   "metadata": {},
   "outputs": [],
   "source": [
    "monitor.monitor(interval=1,callback=handle_trello_changes)"
   ]
  }
 ],
 "metadata": {
  "language_info": {
   "name": "python"
  }
 },
 "nbformat": 4,
 "nbformat_minor": 5
}
