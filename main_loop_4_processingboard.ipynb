{
 "cells": [
  {
   "cell_type": "code",
   "execution_count": null,
   "id": "0",
   "metadata": {},
   "outputs": [],
   "source": [
    "from trello_board import TrelloBoardMonitor\n",
    "from IFTTT import IFTTTNotifier\n",
    "from habitica import HabiticaAPI\n",
    "from ubuntu_desktop import send_balatro_notification\n",
    "import os\n",
    "from dotenv import load_dotenv"
   ]
  },
  {
   "cell_type": "code",
   "execution_count": null,
   "id": "1",
   "metadata": {},
   "outputs": [],
   "source": [
    "load_dotenv()\n",
    "\n",
    "TRELLO_PROCESSING_BOARD_ID = os.getenv(\"TRELLO_PROCESSING_BOARD_ID\")"
   ]
  },
  {
   "cell_type": "code",
   "execution_count": null,
   "id": "2",
   "metadata": {},
   "outputs": [],
   "source": [
    "def desktop_notifier_callback(final_result, task_id, direction):\n",
    "    send_balatro_notification(\"Doot\", f\"{task_id}\", f\"{task_id}\")"
   ]
  },
  {
   "cell_type": "code",
   "execution_count": null,
   "id": "3",
   "metadata": {},
   "outputs": [],
   "source": [
    "monitor = TrelloBoardMonitor(\n",
    "    board_id=TRELLO_PROCESSING_BOARD_ID)\n",
    "notifier = IFTTTNotifier()\n",
    "habitica = HabiticaAPI(callback=desktop_notifier_callback)"
   ]
  },
  {
   "cell_type": "code",
   "execution_count": null,
   "id": "4",
   "metadata": {},
   "outputs": [],
   "source": [
    "def handle_trello_changes(diff):\n",
    "    \"\"\"Handle all the business logic when Trello changes\"\"\"\n",
    "    for category in diff:\n",
    "        for card in diff[category]:\n",
    "            card_id = card['id']\n",
    "\n",
    "            card_details = monitor.get_card_details(card_id)\n",
    "            card_title = card_details['title']\n",
    "            card_story_points = 0.1\n",
    "            card_frontend_url = card_details.get('frontend_url')\n",
    "\n",
    "            notifier.send_notification(title=f'Processing Trello Card - #{card_title}#...',\n",
    "                                       message=f'',\n",
    "                                       url=\"\", image_url=\"\")\n",
    "\n",
    "\n",
    "            # print(card_title, card_story_points, card_frontend_url)    \n",
    "\n",
    "            habitica_info = habitica.log_story_points(0.1)\n",
    "            exp, gp, level = habitica_info['stat_deltas']['exp'], \\\n",
    "                             habitica_info['stat_deltas']['gp'], \\\n",
    "                             habitica_info['stat_deltas']['level']\n",
    "            \n",
    "            # we want the title to be dynamic based on exp gp and level, although level might not change\n",
    "            # emojis used for compression and concision\n",
    "            # the emoji for exp is the star ⭐\n",
    "            # the emoji for gold is the coin 🪙\n",
    "            # the emoji for level is the up arrow ⬆️\n",
    "            # and we only include the level, gp and exp if they have changed\n",
    "            title_parts = []\n",
    "            if exp:\n",
    "                title_parts.append(f'⭐{round(exp, 2) if isinstance(exp, float) else exp}')\n",
    "            if gp:\n",
    "                title_parts.append(f'🪙{round(gp, 2) if isinstance(gp, float) else gp}')\n",
    "            if level:\n",
    "                title_parts.append(f'⬆️{level}')\n",
    "\n",
    "            title = \" | \".join(title_parts)\n",
    "\n",
    "            notifier.send_notification(title='Trello Card In Action! - ' + title,\n",
    "                                       message=f'specifically this card: ##{card_title}## with story points: {card_story_points}',\n",
    "                                       url=card_frontend_url)\n"
   ]
  },
  {
   "cell_type": "code",
   "execution_count": null,
   "id": "5",
   "metadata": {},
   "outputs": [],
   "source": [
    "monitor.monitor(callback=handle_trello_changes)"
   ]
  }
 ],
 "metadata": {
  "kernelspec": {
   "display_name": ".venv",
   "language": "python",
   "name": "python3"
  },
  "language_info": {
   "codemirror_mode": {
    "name": "ipython",
    "version": 3
   },
   "file_extension": ".py",
   "mimetype": "text/x-python",
   "name": "python",
   "nbconvert_exporter": "python",
   "pygments_lexer": "ipython3",
   "version": "3.12.0"
  }
 },
 "nbformat": 4,
 "nbformat_minor": 5
}
